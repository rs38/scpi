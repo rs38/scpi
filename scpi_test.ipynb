{
 "cells": [
  {
   "cell_type": "code",
   "execution_count": 2,
   "id": "53db2bbc",
   "metadata": {},
   "outputs": [
    {
     "name": "stdout",
     "output_type": "stream",
     "text": [
      "easy-scpi imported successfully\n"
     ]
    }
   ],
   "source": [
    "# Install required library (uncomment if running for the first time)\n",
    "#!pip install easy-scpi\n",
    "\n",
    "from easy_scpi import Instrument\n",
    "print('easy-scpi imported successfully')"
   ]
  },
  {
   "cell_type": "code",
   "execution_count": null,
   "id": "ab546d72",
   "metadata": {},
   "outputs": [],
   "source": [
    "# Install pyvisa-py backend if not already installed (uncomment to run)\n",
    "# !pip install pyvisa-py"
   ]
  },
  {
   "cell_type": "code",
   "execution_count": 4,
   "id": "684070a2",
   "metadata": {},
   "outputs": [
    {
     "name": "stdout",
     "output_type": "stream",
     "text": [
      "Available ttyUSB devices: ['/dev/ttyUSB0']\n"
     ]
    }
   ],
   "source": [
    "# List available ttyUSB devices (Linux only)\n",
    "import glob\n",
    "\n",
    "ttyusb_devices = glob.glob('/dev/ttyUSB*')\n",
    "print('Available ttyUSB devices:', ttyusb_devices)"
   ]
  },
  {
   "cell_type": "code",
   "execution_count": 6,
   "id": "61999b79",
   "metadata": {},
   "outputs": [
    {
     "name": "stdout",
     "output_type": "stream",
     "text": [
      "Connection failed: [Errno 13] could not open port /dev/ttyUSB0: [Errno 13] Permission denied: '/dev/ttyUSB0'\n"
     ]
    },
    {
     "name": "stderr",
     "output_type": "stream",
     "text": [
      "/home/falco/.local/lib/python3.10/site-packages/pyvisa_py/tcpip.py:122: UserWarning: TCPIP::hislip resource discovery requires the zeroconf package to be installed... try 'pip install zeroconf'\n",
      "  warnings.warn(\n"
     ]
    }
   ],
   "source": [
    "# Set up Instrument connection (USB serial /dev/ttyUSB0 example)\n",
    "\n",
    "# Use the detected ttyUSB device\n",
    "resource = '/dev/ttyUSB0'  # Detected USB serial device\n",
    "\n",
    "try:\n",
    "    instrument = Instrument(port=resource)\n",
    "    instrument.connect()\n",
    "    print(f'Connected to: {resource}')\n",
    "except Exception as e:\n",
    "    print('Connection failed:', e)\n",
    "    instrument = None"
   ]
  },
  {
   "cell_type": "markdown",
   "id": "5934b15a",
   "metadata": {},
   "source": [
    "## 3. Send Basic SCPI Commands\n",
    "\n",
    "Send simple SCPI commands (e.g., '*IDN?') to the instrument and display the responses."
   ]
  },
  {
   "cell_type": "code",
   "execution_count": null,
   "id": "bd1816f9",
   "metadata": {},
   "outputs": [],
   "source": [
    "# Send a basic SCPI command (e.g., *IDN?) and display the response\n",
    "if instrument:\n",
    "    try:\n",
    "        response = instrument.query('*IDN?')\n",
    "        print('Instrument identification:', response)\n",
    "    except Exception as e:\n",
    "        print('SCPI command failed:', e)\n",
    "else:\n",
    "    print('Instrument not connected.')"
   ]
  },
  {
   "cell_type": "markdown",
   "id": "13098a1c",
   "metadata": {},
   "source": [
    "## 4. Read and Parse SCPI Responses\n",
    "\n",
    "Read responses from the instrument and parse them for further analysis."
   ]
  },
  {
   "cell_type": "code",
   "execution_count": null,
   "id": "4228cdc0",
   "metadata": {},
   "outputs": [],
   "source": [
    "# Example: Parse a comma-separated response from the instrument\n",
    "if instrument:\n",
    "    try:\n",
    "        # Example command that returns comma-separated values\n",
    "        response = instrument.query('MEASure:VOLTage:DC?')\n",
    "        # Parse response if needed\n",
    "        values = response.strip().split(',')\n",
    "        print('Parsed values:', values)\n",
    "    except Exception as e:\n",
    "        print('Failed to read/parse response:', e)\n",
    "else:\n",
    "    print('Instrument not connected.')"
   ]
  },
  {
   "cell_type": "markdown",
   "id": "b214a3a6",
   "metadata": {},
   "source": [
    "## 5. Automate SCPI Command Testing\n",
    "\n",
    "Create functions or loops to automate the sending and validation of multiple SCPI commands."
   ]
  },
  {
   "cell_type": "code",
   "execution_count": null,
   "id": "c60b4b63",
   "metadata": {},
   "outputs": [],
   "source": [
    "# Function to automate SCPI command testing\n",
    "def test_scpi_commands(instrument, commands):\n",
    "    results = {}\n",
    "    for cmd in commands:\n",
    "        try:\n",
    "            response = instrument.query(cmd)\n",
    "            results[cmd] = response.strip()\n",
    "        except Exception as e:\n",
    "            results[cmd] = f'Error: {e}'\n",
    "    return results\n",
    "\n",
    "# Example usage\n",
    "if instrument:\n",
    "    commands = ['*IDN?', 'MEASure:VOLTage:DC?', 'SYSTem:ERRor?']\n",
    "    test_results = test_scpi_commands(instrument, commands)\n",
    "    for cmd, result in test_results.items():\n",
    "        print(f'{cmd} -> {result}')\n",
    "else:\n",
    "    print('Instrument not connected.')"
   ]
  },
  {
   "cell_type": "markdown",
   "id": "65a82eaf",
   "metadata": {},
   "source": [
    "## 6. Handle SCPI Errors and Exceptions\n",
    "\n",
    "Implement error handling to manage communication issues or invalid SCPI responses."
   ]
  },
  {
   "cell_type": "code",
   "execution_count": null,
   "id": "56cb58c1",
   "metadata": {},
   "outputs": [],
   "source": [
    "# Example: Error handling for SCPI communication\n",
    "try:\n",
    "    if instrument:\n",
    "        # Try an invalid command to trigger an error\n",
    "        response = instrument.query('INVALID:COMMAND?')\n",
    "        print('Response:', response)\n",
    "    else:\n",
    "        print('Instrument not connected.')\n",
    "except Exception as e:\n",
    "    print('Caught SCPI error:', e)"
   ]
  }
 ],
 "metadata": {
  "kernelspec": {
   "display_name": "Python 3",
   "language": "python",
   "name": "python3"
  },
  "language_info": {
   "codemirror_mode": {
    "name": "ipython",
    "version": 3
   },
   "file_extension": ".py",
   "mimetype": "text/x-python",
   "name": "python",
   "nbconvert_exporter": "python",
   "pygments_lexer": "ipython3",
   "version": "3.10.12"
  }
 },
 "nbformat": 4,
 "nbformat_minor": 5
}
