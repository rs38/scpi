{
 "cells": [
  {
   "cell_type": "markdown",
   "id": "cc09bbc4",
   "metadata": {},
   "source": [
    "# OWON SPM SCPI Native Serial Communication\n",
    "\n",
    "This notebook demonstrates how to communicate with an OWON SPM instrument using SCPI commands over `/dev/ttyUSB0` natively (without VISA), using Python's `pyserial` library."
   ]
  },
  {
   "cell_type": "code",
   "execution_count": 1,
   "id": "3ad85883",
   "metadata": {},
   "outputs": [
    {
     "name": "stdout",
     "output_type": "stream",
     "text": [
      "Serial port opened: /dev/ttyUSB0\n"
     ]
    },
    {
     "data": {
      "text/plain": [
       "Serial<id=0x7fa214246890, open=True>(port='/dev/ttyUSB0', baudrate=115200, bytesize=8, parity='N', stopbits=1, timeout=0.5, xonxoff=False, rtscts=False, dsrdtr=False)"
      ]
     },
     "execution_count": 1,
     "metadata": {},
     "output_type": "execute_result"
    }
   ],
   "source": [
    "#!pip install pyserial\n",
    "\n",
    "import serial\n",
    "\n",
    "# Global serial handle\n",
    "SER_HANDLE = None\n",
    "\n",
    "def get_serial():\n",
    "    global SER_HANDLE\n",
    "    if SER_HANDLE is None or not SER_HANDLE.is_open:\n",
    "        SER_HANDLE = serial.Serial(\n",
    "            port='/dev/ttyUSB0',\n",
    "            baudrate=115200,\n",
    "            bytesize=serial.EIGHTBITS,\n",
    "            parity=serial.PARITY_NONE,\n",
    "            stopbits=serial.STOPBITS_ONE,\n",
    "            timeout=0.5\n",
    "        )\n",
    "        print('Serial port opened:', SER_HANDLE.port)\n",
    "    return SER_HANDLE\n",
    "\n",
    "# Open serial port at notebook start\n",
    "get_serial()"
   ]
  },
  {
   "cell_type": "markdown",
   "id": "1b9d9a53",
   "metadata": {},
   "source": [
    "### 2. Send SCPI Commands to OWON SPM"
   ]
  },
  {
   "cell_type": "code",
   "execution_count": 2,
   "id": "9cae966f",
   "metadata": {},
   "outputs": [
    {
     "name": "stdout",
     "output_type": "stream",
     "text": [
      "Current Measurement: 0.000\n"
     ]
    }
   ],
   "source": [
    "def send_scpi_command(command, silent = True):\n",
    "    ser = get_serial()\n",
    "    ser.write((command + '\\n').encode('ascii'))\n",
    "    if not silent:\n",
    "        print(f'Sent: {command}')\n",
    "\n",
    "def read_scpi_response(silent=True):\n",
    "    ser = get_serial()\n",
    "    response = ser.readline().decode('ascii', errors='replace').strip()\n",
    "    if not silent:\n",
    "        print('Received:', response)\n",
    "    return response\n",
    "\n",
    "send_scpi_command('*IDN?')\n",
    "read_scpi_response()\n",
    "\n",
    "def measure_it(command='MEAS:ALL:INFO?'):\n",
    "    send_scpi_command(command)\n",
    "    response = read_scpi_response()\n",
    "    return response\n",
    "\n",
    "# Example: Measure DC current\n",
    "current = measure_it(\"MEAS:CURRENT:DC?\")\n",
    "print(f'Current Measurement: {current}')"
   ]
  },
  {
   "cell_type": "code",
   "execution_count": 3,
   "id": "dd87c21e",
   "metadata": {},
   "outputs": [],
   "source": [
    "def extract_current_measurements(text):\n",
    "    parts = text.split(',')\n",
    "    floats = [float(x) for x in parts[:3]]\n",
    "    return floats\n",
    "\n",
    "# Extract first 3 floats from a comma-separated string\n",
    "text = '3.214,1.004,3.230,OFF,OFF,OFF,2'\n",
    "text = measure_it()"
   ]
  },
  {
   "cell_type": "code",
   "execution_count": 4,
   "id": "e1908f49",
   "metadata": {},
   "outputs": [
    {
     "name": "stdout",
     "output_type": "stream",
     "text": [
      "Measurements: ['2025-08-11T14:18:30.791630', 0.0, 0.0, 0.0]\n",
      "Measurements: ['2025-08-11T14:18:31.804141', 0.0, 0.0, 0.0]\n",
      "Measurements: ['2025-08-11T14:18:31.804141', 0.0, 0.0, 0.0]\n",
      "Measurements: ['2025-08-11T14:18:32.816697', 0.0, 0.0, 0.0]\n",
      "Measurements: ['2025-08-11T14:18:32.816697', 0.0, 0.0, 0.0]\n",
      "Measurements: ['2025-08-11T14:18:33.829262', 0.0, 0.0, 0.0]\n",
      "Measurements: ['2025-08-11T14:18:33.829262', 0.0, 0.0, 0.0]\n",
      "Measurements: ['2025-08-11T14:18:34.842046', 0.0, 0.0, 0.0]\n",
      "Measurements: ['2025-08-11T14:18:34.842046', 0.0, 0.0, 0.0]\n"
     ]
    },
    {
     "ename": "KeyboardInterrupt",
     "evalue": "",
     "output_type": "error",
     "traceback": [
      "\u001b[0;31m---------------------------------------------------------------------------\u001b[0m",
      "\u001b[0;31mKeyboardInterrupt\u001b[0m                         Traceback (most recent call last)",
      "Cell \u001b[0;32mIn[4], line 11\u001b[0m\n\u001b[1;32m      8\u001b[0m measurements\u001b[38;5;241m.\u001b[39mappend(row)\n\u001b[1;32m      9\u001b[0m \u001b[38;5;28mprint\u001b[39m(\u001b[38;5;124mf\u001b[39m\u001b[38;5;124m'\u001b[39m\u001b[38;5;124mMeasurements: \u001b[39m\u001b[38;5;132;01m{\u001b[39;00mrow\u001b[38;5;132;01m}\u001b[39;00m\u001b[38;5;124m'\u001b[39m)\n\u001b[0;32m---> 11\u001b[0m \u001b[43mtime\u001b[49m\u001b[38;5;241;43m.\u001b[39;49m\u001b[43msleep\u001b[49m\u001b[43m(\u001b[49m\u001b[38;5;241;43m1\u001b[39;49m\u001b[43m)\u001b[49m\n",
      "\u001b[0;31mKeyboardInterrupt\u001b[0m: "
     ]
    }
   ],
   "source": [
    "import time\n",
    "from datetime import datetime\n",
    "measurements = []\n",
    "while True:\n",
    "    current_measurements = extract_current_measurements(measure_it())\n",
    "    timestamp = datetime.now().isoformat()\n",
    "    row = [timestamp] + current_measurements\n",
    "    measurements.append(row)\n",
    "    print(f'Measurements: {row}')\n",
    "\n",
    "    time.sleep(1)"
   ]
  },
  {
   "cell_type": "markdown",
   "id": "025b0af8",
   "metadata": {},
   "source": [
    "### activate charging\n"
   ]
  },
  {
   "cell_type": "code",
   "execution_count": null,
   "id": "0ab57cdc",
   "metadata": {},
   "outputs": [],
   "source": [
    "def set_power_supply(voltage, current):\n",
    "    send_scpi_command(f'VOLT {voltage}')\n",
    "    read_scpi_response()\n",
    "    send_scpi_command(f'CURR {current}')\n",
    "    read_scpi_response()\n",
    "    send_scpi_command('OUTP ON')\n",
    "    read_scpi_response()\n",
    "    print(f'Set voltage to {voltage} V and current to {current} A, output enabled.')\n",
    "\n",
    "# Example: Set to 3.6V and 1A, output ON\n",
    "set_power_supply(3., 3.0)"
   ]
  },
  {
   "cell_type": "code",
   "execution_count": null,
   "id": "5080014a",
   "metadata": {},
   "outputs": [],
   "source": [
    "send_scpi_command('OUTP?')  # Turn off output after use\n",
    "send_scpi_command('CURR:LIM?') \n",
    "print(read_scpi_response())\n",
    "print(read_scpi_response())\n",
    "send_scpi_command('OUTP OFF')"
   ]
  },
  {
   "cell_type": "code",
   "execution_count": null,
   "id": "8898fcae",
   "metadata": {},
   "outputs": [],
   "source": [
    "if SER_HANDLE is not None and SER_HANDLE.is_open:\n",
    "    SER_HANDLE.close()  # Close the serial port when done"
   ]
  },
  {
   "cell_type": "code",
   "execution_count": null,
   "id": "7129c377",
   "metadata": {},
   "outputs": [],
   "source": [
    "import pandas as pd\n",
    "\n",
    "# Convert measurements to a DataFrame for easier handling\n",
    "df = pd.DataFrame(measurements, columns=[\"timestamp\"] + [f\"measurement_{i}\" for i in range(len(measurements[0]) - 1)])\n",
    "#plot df\n",
    "import matplotlib.pyplot as plt\n",
    "\n",
    "df.set_index(\"timestamp\", inplace=True)\n",
    "df.plot()\n",
    "plt.show()"
   ]
  },
  {
   "cell_type": "code",
   "execution_count": 6,
   "id": "5cb31b42",
   "metadata": {},
   "outputs": [
    {
     "name": "stdout",
     "output_type": "stream",
     "text": [
      "VOLT:DC,+02.952V,AUTO,20V\n",
      "0.000,0.000,0.000,OFF,OFF,OFF,0\n"
     ]
    }
   ],
   "source": [
    "print(measure_it(\"CONFigure:ALL?\"))\n",
    "print(measure_it(\"MEAS:ALL:INFO?\"))\n",
    "#print(measure_current(\"CONF?\"))"
   ]
  }
 ],
 "metadata": {
  "kernelspec": {
   "display_name": ".venv",
   "language": "python",
   "name": "python3"
  },
  "language_info": {
   "codemirror_mode": {
    "name": "ipython",
    "version": 3
   },
   "file_extension": ".py",
   "mimetype": "text/x-python",
   "name": "python",
   "nbconvert_exporter": "python",
   "pygments_lexer": "ipython3",
   "version": "3.10.12"
  }
 },
 "nbformat": 4,
 "nbformat_minor": 5
}
