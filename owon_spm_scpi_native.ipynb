{
 "cells": [
  {
   "cell_type": "markdown",
   "id": "cc09bbc4",
   "metadata": {},
   "source": [
    "# OWON SPM SCPI Native Serial Communication\n",
    "\n",
    "This notebook demonstrates how to communicate with an OWON SPM instrument using SCPI commands over `/dev/ttyUSB0` natively (without VISA), using Python's `pyserial` library."
   ]
  },
  {
   "cell_type": "code",
   "execution_count": null,
   "id": "3ad85883",
   "metadata": {},
   "outputs": [],
   "source": [
    "#!pip install pyserial\n",
    "\n",
    "import serial\n",
    "\n",
    "# Global serial handle\n",
    "SER_HANDLE = None\n",
    "\n",
    "def get_serial():\n",
    "    global SER_HANDLE\n",
    "    if SER_HANDLE is None or not SER_HANDLE.is_open:\n",
    "        SER_HANDLE = serial.Serial(\n",
    "            port='/dev/ttyUSB0',\n",
    "            baudrate=115200,\n",
    "            bytesize=serial.EIGHTBITS,\n",
    "            parity=serial.PARITY_NONE,\n",
    "            stopbits=serial.STOPBITS_ONE,\n",
    "            timeout=0.5\n",
    "        )\n",
    "        print('Serial port opened:', SER_HANDLE.port)\n",
    "    return SER_HANDLE\n",
    "\n",
    "# Open serial port at notebook start\n",
    "get_serial()"
   ]
  },
  {
   "cell_type": "markdown",
   "id": "1b9d9a53",
   "metadata": {},
   "source": [
    "### 2. Send SCPI Commands to OWON SPM"
   ]
  },
  {
   "cell_type": "code",
   "execution_count": null,
   "id": "9cae966f",
   "metadata": {},
   "outputs": [],
   "source": [
    "def send_scpi_command(command, silent = True):\n",
    "    ser = get_serial()\n",
    "    ser.write((command + '\\n').encode('ascii'))\n",
    "    if not silent:\n",
    "        print(f'Sent: {command}')\n",
    "\n",
    "def read_scpi_response(silent=True):\n",
    "    ser = get_serial()\n",
    "    response = ser.readline().decode('ascii', errors='replace').strip()\n",
    "    if not silent:\n",
    "        print('Received:', response)\n",
    "    return response\n",
    "\n",
    "send_scpi_command('*IDN?')\n",
    "read_scpi_response()\n",
    "\n",
    "def measure_it(command='MEAS:ALL:INFO?'):\n",
    "    send_scpi_command(command)\n",
    "    response = read_scpi_response()\n",
    "    return response\n",
    "\n",
    "# Example: Measure DC current\n",
    "current = measure_it(\"MEAS:CURRENT:DC?\")\n",
    "print(f'Current Measurement: {current}')"
   ]
  },
  {
   "cell_type": "code",
   "execution_count": null,
   "id": "dd87c21e",
   "metadata": {},
   "outputs": [],
   "source": [
    "def extract_current_measurements(text):\n",
    "    parts = text.split(',')\n",
    "    floats = [float(x) for x in parts[:3]]\n",
    "    return floats\n",
    "\n",
    "# Extract first 3 floats from a comma-separated string\n",
    "text = '3.214,1.004,3.230,OFF,OFF,OFF,2'\n",
    "text = measure_it()"
   ]
  },
  {
   "cell_type": "code",
   "execution_count": null,
   "id": "e1908f49",
   "metadata": {},
   "outputs": [],
   "source": [
    "import time\n",
    "from datetime import datetime\n",
    "\n",
    "def record_measurements(interval=1.0, samples=None, duration=None, verbose=True):\n",
    "    \"\"\"Collect measurements at a fixed interval.\n",
    "    Parameters:\n",
    "      interval: seconds between measurements\n",
    "      samples: stop after this many samples (optional)\n",
    "      duration: stop after this many seconds (optional)\n",
    "      verbose: print each row if True\n",
    "    Returns:\n",
    "      List of [timestamp, m1, m2, m3] rows.\"\"\"\n",
    "    collected = []\n",
    "    start = time.time()\n",
    "    count = 0\n",
    "    try:\n",
    "        while True:\n",
    "            if samples is not None and count >= samples:\n",
    "                break\n",
    "            if duration is not None and (time.time() - start) >= duration:\n",
    "                break\n",
    "            current_measurements = extract_current_measurements(measure_it())\n",
    "            timestamp = datetime.now().isoformat()\n",
    "            row = [timestamp] + current_measurements\n",
    "            collected.append(row)\n",
    "            if verbose:\n",
    "                print(f'Measurements: {row}')\n",
    "            count += 1\n",
    "            time.sleep(interval)\n",
    "    except KeyboardInterrupt:\n",
    "        if verbose:\n",
    "            print('Measurement interrupted by user.')\n",
    "    return collected\n",
    "\n",
    "# Example usage: collect 5 samples at 1 second interval\n",
    "measurements = record_measurements(samples=5, interval=1.0)\n",
    "print(f'Collected {len(measurements)} measurement rows.')"
   ]
  },
  {
   "cell_type": "markdown",
   "id": "025b0af8",
   "metadata": {},
   "source": [
    "### activate charging\n"
   ]
  },
  {
   "cell_type": "code",
   "execution_count": null,
   "id": "0ab57cdc",
   "metadata": {},
   "outputs": [],
   "source": [
    "def set_power_supply(voltage, current):\n",
    "    send_scpi_command(f'VOLT {voltage}')\n",
    "    read_scpi_response()\n",
    "    send_scpi_command(f'CURR {current}')\n",
    "    read_scpi_response()\n",
    "    send_scpi_command('OUTP ON')\n",
    "    read_scpi_response()\n",
    "    print(f'Set voltage to {voltage} V and current to {current} A, output enabled.')\n",
    "\n",
    "# Example: Set to 3.6V and 1A, output ON\n",
    "set_power_supply(3., 3.0)"
   ]
  },
  {
   "cell_type": "code",
   "execution_count": null,
   "id": "5080014a",
   "metadata": {},
   "outputs": [],
   "source": [
    "def query_and_disable_output():\n",
    "    send_scpi_command('OUTP?')\n",
    "    send_scpi_command('CURR:LIM?')\n",
    "    print(read_scpi_response())\n",
    "    print(read_scpi_response())\n",
    "    send_scpi_command('OUTP OFF')\n",
    "\n",
    "# Example usage:\n",
    "query_and_disable_output()"
   ]
  },
  {
   "cell_type": "code",
   "execution_count": null,
   "id": "5cb31b42",
   "metadata": {},
   "outputs": [],
   "source": [
    "print(measure_it(\"CONFigure:ALL?\"))\n",
    "print(measure_it(\"MEAS:ALL:INFO?\"))\n",
    "#print(measure_current(\"CONF?\"))"
   ]
  },
  {
   "cell_type": "code",
   "execution_count": null,
   "id": "7129c377",
   "metadata": {},
   "outputs": [],
   "source": [
    "import pandas as pd\n",
    "\n",
    "# Convert measurements to a DataFrame for easier handling\n",
    "df = pd.DataFrame(measurements, columns=[\"timestamp\"] + [f\"measurement_{i}\" for i in range(len(measurements[0]) - 1)])\n",
    "#plot df\n",
    "import matplotlib.pyplot as plt\n",
    "\n",
    "df.set_index(\"timestamp\", inplace=True)\n",
    "df.plot()\n",
    "plt.show()"
   ]
  },
  {
   "cell_type": "code",
   "execution_count": null,
   "id": "8898fcae",
   "metadata": {},
   "outputs": [],
   "source": [
    "if SER_HANDLE is not None and SER_HANDLE.is_open:\n",
    "    SER_HANDLE.close()  # Close the serial port when done"
   ]
  }
 ],
 "metadata": {
  "kernelspec": {
   "display_name": ".venv",
   "language": "python",
   "name": "python3"
  },
  "language_info": {
   "codemirror_mode": {
    "name": "ipython",
    "version": 3
   },
   "file_extension": ".py",
   "mimetype": "text/x-python",
   "name": "python",
   "nbconvert_exporter": "python",
   "pygments_lexer": "ipython3",
   "version": "3.10.12"
  }
 },
 "nbformat": 4,
 "nbformat_minor": 5
}
