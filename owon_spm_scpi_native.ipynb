{
 "cells": [
  {
   "cell_type": "markdown",
   "id": "cc09bbc4",
   "metadata": {},
   "source": [
    "# OWON SPM SCPI Native Serial Communication\n",
    "\n",
    "This notebook demonstrates how to communicate with an OWON SPM instrument using SCPI commands over `/dev/ttyUSB0` natively (without VISA), using Python's `pyserial` library."
   ]
  },
  {
   "cell_type": "code",
   "execution_count": null,
   "id": "3ad85883",
   "metadata": {},
   "outputs": [],
   "source": [
    "#!pip install pyserial\n",
    "\n",
    "import serial\n",
    "\n",
    "# Configure serial port for OWON SPM (baudrate 115200, adjust timeout as needed)\n",
    "ser = serial.Serial(\n",
    "    port='/dev/ttyUSB0',\n",
    "    baudrate=115200,\n",
    "    bytesize=serial.EIGHTBITS,\n",
    "    parity=serial.PARITY_NONE,\n",
    "    stopbits=serial.STOPBITS_ONE,\n",
    "    timeout=0.5\n",
    ")\n",
    "\n",
    "print('Serial port opened:', ser.port)"
   ]
  },
  {
   "cell_type": "markdown",
   "id": "1b9d9a53",
   "metadata": {},
   "source": [
    "## 2. Send SCPI Commands to OWON SPM\n",
    "\n",
    "Write code to send SCPI commands to the OWON SPM device using the serial connection."
   ]
  },
  {
   "cell_type": "code",
   "execution_count": null,
   "id": "9cae966f",
   "metadata": {},
   "outputs": [],
   "source": [
    "# Send a SCPI command to the OWON SPM (e.g., *IDN?)\n",
    "def send_scpi_command(ser, command, silent = True):\n",
    "    # SCPI commands typically end with a newline or carriage return\n",
    "    ser.write((command + '\\n').encode('ascii'))\n",
    "    if not silent:\n",
    "        print(f'Sent: {command}')\n",
    "\n",
    "   \n",
    "    #response = ser.readline().decode('ascii', errors='replace').strip()\n",
    "    #print('Received:', response)\n",
    "# Example: Query instrument identification\n",
    "send_scpi_command(ser, '*IDN?')"
   ]
  },
  {
   "cell_type": "code",
   "execution_count": null,
   "id": "4a36b63d",
   "metadata": {},
   "outputs": [],
   "source": [
    "def read_scpi_response(ser, silent=True):\n",
    "    # Read until timeout or newline\n",
    "    response = ser.readline().decode('ascii', errors='replace').strip()\n",
    "    if not silent:\n",
    "        print('Received:', response)\n",
    "    return response\n"
   ]
  },
  {
   "cell_type": "markdown",
   "id": "4c3fdd77",
   "metadata": {},
   "source": [
    "## 4. Display Measurement Data\n",
    "\n",
    "Display the parsed measurement data in a readable format, such as tables or plots."
   ]
  },
  {
   "cell_type": "code",
   "execution_count": null,
   "id": "96554840",
   "metadata": {},
   "outputs": [],
   "source": [
    "def measure_voltage(ser, command='MEAS:VOLT:DC?'):\n",
    "    send_scpi_command(ser, command)\n",
    "    response = read_scpi_response(ser)\n",
    "    print(f'Voltage Measurement: {response}')\n",
    "    return response\n",
    "\n",
    "# Example: Measure DC voltage\n",
    "voltage = measure_voltage(ser)"
   ]
  },
  {
   "cell_type": "code",
   "execution_count": null,
   "id": "8defa0e5",
   "metadata": {},
   "outputs": [],
   "source": [
    "\n",
    "def measure_current(ser, command='MEAS:ALL:INFO?'):\n",
    "    send_scpi_command(ser, command)\n",
    "    response = read_scpi_response(ser)\n",
    "    #print(f'Current Measurement: {response}')\n",
    "    return response\n",
    "\n",
    "# Example: Measure DC current\n",
    "current = measure_current(ser)\n",
    "print(f'Current Measurement: {current}')"
   ]
  },
  {
   "cell_type": "code",
   "execution_count": null,
   "id": "dd87c21e",
   "metadata": {},
   "outputs": [],
   "source": [
    "\n",
    "def extract_current_measurements(text):\n",
    "    parts = text.split(',')\n",
    "    floats = [float(x) for x in parts[:3]]\n",
    "    return floats\n",
    "\n",
    "# Extract first 3 floats from a comma-separated string\n",
    "text = '3.214,1.004,3.230,OFF,OFF,OFF,2'\n",
    "text = measure_current(ser)"
   ]
  },
  {
   "cell_type": "code",
   "execution_count": null,
   "id": "e1908f49",
   "metadata": {},
   "outputs": [],
   "source": [
    "import time\n",
    "from datetime import datetime\n",
    "measurements = []\n",
    "while True:\n",
    "    current_measurements = extract_current_measurements(measure_current(ser))\n",
    "    timestamp = datetime.now().isoformat()\n",
    "    row = [timestamp] + current_measurements\n",
    "    measurements.append(row)\n",
    "    #print(row) #formatted output\n",
    "    print(f'Measurements: {row}')\n",
    "\n",
    "    time.sleep(1)\n"
   ]
  },
  {
   "cell_type": "code",
   "execution_count": null,
   "id": "0ab57cdc",
   "metadata": {},
   "outputs": [],
   "source": [
    "# Set OWON SPM power supply to 3.6V and 1A, then enable output\n",
    "\n",
    "def set_power_supply(ser, voltage, current):\n",
    "    # Adjust SCPI commands as needed for your OWON SPM model\n",
    "    send_scpi_command(ser, f'VOLT {voltage}')\n",
    "    read_scpi_response(ser)\n",
    "    send_scpi_command(ser, f'CURR {current}')\n",
    "    read_scpi_response(ser)\n",
    "    send_scpi_command(ser, 'OUTP ON')\n",
    "    read_scpi_response(ser)\n",
    "    print(f'Set voltage to {voltage} V and current to {current} A, output enabled.')\n",
    "\n",
    "# Example: Set to 3.6V and 1A, output ON\n",
    "set_power_supply(ser, 3.6, 3.0)"
   ]
  },
  {
   "cell_type": "code",
   "execution_count": null,
   "id": "5080014a",
   "metadata": {},
   "outputs": [],
   "source": [
    "send_scpi_command(ser, 'OUTP?')  # Turn off output after use\n",
    "send_scpi_command(ser, 'CURR:LIM?') \n",
    "print(read_scpi_response(ser))\n",
    "print(read_scpi_response(ser))"
   ]
  },
  {
   "cell_type": "code",
   "execution_count": null,
   "id": "8898fcae",
   "metadata": {},
   "outputs": [],
   "source": [
    "ser.close()  # Close the serial port when don"
   ]
  },
  {
   "cell_type": "code",
   "execution_count": null,
   "id": "0a508d1b",
   "metadata": {},
   "outputs": [],
   "source": [
    "import pandas as pd\n",
    "\n",
    "# Convert measurements to a DataFrame for easier handling\n",
    "df = pd.DataFrame(measurements, columns=[\"timestamp\"] + [f\"measurement_{i}\" for i in range(len(measurements[0]) - 1)])\n",
    "#plot df\n",
    "import matplotlib.pyplot as plt\n",
    "\n",
    "df.set_index(\"timestamp\", inplace=True)\n",
    "df.plot()\n",
    "plt.show()"
   ]
  }
 ],
 "metadata": {
  "kernelspec": {
   "display_name": ".venv",
   "language": "python",
   "name": "python3"
  },
  "language_info": {
   "codemirror_mode": {
    "name": "ipython",
    "version": 3
   },
   "file_extension": ".py",
   "mimetype": "text/x-python",
   "name": "python",
   "nbconvert_exporter": "python",
   "pygments_lexer": "ipython3",
   "version": "3.10.12"
  }
 },
 "nbformat": 4,
 "nbformat_minor": 5
}
